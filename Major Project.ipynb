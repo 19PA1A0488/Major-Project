{
 "cells": [
  {
   "cell_type": "code",
   "execution_count": 1,
   "metadata": {
    "cellView": "form",
    "id": "JPo7c3pSVvr2"
   },
   "outputs": [
    {
     "name": "stdout",
     "output_type": "stream",
     "text": [
      "Requirement already satisfied: keras-tcn in c:\\users\\priya lakku\\anaconda3\\lib\\site-packages (3.5.0)\n",
      "Requirement already satisfied: tensorflow in c:\\users\\priya lakku\\anaconda3\\lib\\site-packages (from keras-tcn) (2.7.0)\n",
      "Requirement already satisfied: numpy in c:\\users\\priya lakku\\anaconda3\\lib\\site-packages (from keras-tcn) (1.18.5)\n",
      "Requirement already satisfied: tensorflow-addons in c:\\users\\priya lakku\\anaconda3\\lib\\site-packages (from keras-tcn) (0.20.0)\n",
      "Requirement already satisfied: flatbuffers<3.0,>=1.12 in c:\\users\\priya lakku\\anaconda3\\lib\\site-packages (from tensorflow->keras-tcn) (2.0)\n",
      "Requirement already satisfied: keras<2.8,>=2.7.0rc0 in c:\\users\\priya lakku\\anaconda3\\lib\\site-packages (from tensorflow->keras-tcn) (2.7.0)\n",
      "Requirement already satisfied: wrapt>=1.11.0 in c:\\users\\priya lakku\\anaconda3\\lib\\site-packages (from tensorflow->keras-tcn) (1.11.2)\n",
      "Requirement already satisfied: opt-einsum>=2.3.2 in c:\\users\\priya lakku\\anaconda3\\lib\\site-packages (from tensorflow->keras-tcn) (3.3.0)\n",
      "Requirement already satisfied: gast<0.5.0,>=0.2.1 in c:\\users\\priya lakku\\anaconda3\\lib\\site-packages (from tensorflow->keras-tcn) (0.4.0)\n",
      "Requirement already satisfied: h5py>=2.9.0 in c:\\users\\priya lakku\\anaconda3\\lib\\site-packages (from tensorflow->keras-tcn) (2.10.0)\n",
      "Requirement already satisfied: protobuf>=3.9.2 in c:\\users\\priya lakku\\anaconda3\\lib\\site-packages (from tensorflow->keras-tcn) (3.19.1)\n",
      "Requirement already satisfied: libclang>=9.0.1 in c:\\users\\priya lakku\\anaconda3\\lib\\site-packages (from tensorflow->keras-tcn) (12.0.0)\n",
      "Requirement already satisfied: termcolor>=1.1.0 in c:\\users\\priya lakku\\anaconda3\\lib\\site-packages (from tensorflow->keras-tcn) (1.1.0)\n",
      "Requirement already satisfied: wheel<1.0,>=0.32.0 in c:\\users\\priya lakku\\anaconda3\\lib\\site-packages (from tensorflow->keras-tcn) (0.34.2)\n",
      "Requirement already satisfied: astunparse>=1.6.0 in c:\\users\\priya lakku\\anaconda3\\lib\\site-packages (from tensorflow->keras-tcn) (1.6.3)\n",
      "Requirement already satisfied: keras-preprocessing>=1.1.1 in c:\\users\\priya lakku\\anaconda3\\lib\\site-packages (from tensorflow->keras-tcn) (1.1.2)\n",
      "Requirement already satisfied: google-pasta>=0.1.1 in c:\\users\\priya lakku\\anaconda3\\lib\\site-packages (from tensorflow->keras-tcn) (0.2.0)\n",
      "Requirement already satisfied: absl-py>=0.4.0 in c:\\users\\priya lakku\\anaconda3\\lib\\site-packages (from tensorflow->keras-tcn) (1.0.0)\n",
      "Requirement already satisfied: six>=1.12.0 in c:\\users\\priya lakku\\anaconda3\\lib\\site-packages (from tensorflow->keras-tcn) (1.15.0)\n",
      "Requirement already satisfied: typing-extensions>=3.6.6 in c:\\users\\priya lakku\\anaconda3\\lib\\site-packages (from tensorflow->keras-tcn) (3.7.4.2)\n",
      "Requirement already satisfied: tensorflow-io-gcs-filesystem>=0.21.0 in c:\\users\\priya lakku\\anaconda3\\lib\\site-packages (from tensorflow->keras-tcn) (0.23.0)\n",
      "Requirement already satisfied: tensorboard~=2.6 in c:\\users\\priya lakku\\anaconda3\\lib\\site-packages (from tensorflow->keras-tcn) (2.7.0)\n",
      "Requirement already satisfied: tensorflow-estimator<2.8,~=2.7.0rc0 in c:\\users\\priya lakku\\anaconda3\\lib\\site-packages (from tensorflow->keras-tcn) (2.7.0)\n",
      "Requirement already satisfied: grpcio<2.0,>=1.24.3 in c:\\users\\priya lakku\\anaconda3\\lib\\site-packages (from tensorflow->keras-tcn) (1.42.0)\n",
      "Requirement already satisfied: packaging in c:\\users\\priya lakku\\anaconda3\\lib\\site-packages (from tensorflow-addons->keras-tcn) (20.4)\n",
      "Requirement already satisfied: typeguard<3.0.0,>=2.7 in c:\\users\\priya lakku\\anaconda3\\lib\\site-packages (from tensorflow-addons->keras-tcn) (2.13.3)\n",
      "Requirement already satisfied: setuptools>=41.0.0 in c:\\users\\priya lakku\\anaconda3\\lib\\site-packages (from tensorboard~=2.6->tensorflow->keras-tcn) (49.2.0.post20200714)\n",
      "Requirement already satisfied: markdown>=2.6.8 in c:\\users\\priya lakku\\anaconda3\\lib\\site-packages (from tensorboard~=2.6->tensorflow->keras-tcn) (3.3.6)\n",
      "Requirement already satisfied: tensorboard-data-server<0.7.0,>=0.6.0 in c:\\users\\priya lakku\\anaconda3\\lib\\site-packages (from tensorboard~=2.6->tensorflow->keras-tcn) (0.6.1)\n",
      "Requirement already satisfied: werkzeug>=0.11.15 in c:\\users\\priya lakku\\anaconda3\\lib\\site-packages (from tensorboard~=2.6->tensorflow->keras-tcn) (1.0.1)\n",
      "Requirement already satisfied: requests<3,>=2.21.0 in c:\\users\\priya lakku\\anaconda3\\lib\\site-packages (from tensorboard~=2.6->tensorflow->keras-tcn) (2.25.1)\n",
      "Requirement already satisfied: google-auth<3,>=1.6.3 in c:\\users\\priya lakku\\anaconda3\\lib\\site-packages (from tensorboard~=2.6->tensorflow->keras-tcn) (2.3.3)\n",
      "Requirement already satisfied: tensorboard-plugin-wit>=1.6.0 in c:\\users\\priya lakku\\anaconda3\\lib\\site-packages (from tensorboard~=2.6->tensorflow->keras-tcn) (1.8.0)\n",
      "Requirement already satisfied: google-auth-oauthlib<0.5,>=0.4.1 in c:\\users\\priya lakku\\anaconda3\\lib\\site-packages (from tensorboard~=2.6->tensorflow->keras-tcn) (0.4.6)\n",
      "Requirement already satisfied: pyparsing>=2.0.2 in c:\\users\\priya lakku\\anaconda3\\lib\\site-packages (from packaging->tensorflow-addons->keras-tcn) (2.4.7)\n",
      "Requirement already satisfied: importlib-metadata>=4.4; python_version < \"3.10\" in c:\\users\\priya lakku\\anaconda3\\lib\\site-packages (from markdown>=2.6.8->tensorboard~=2.6->tensorflow->keras-tcn) (4.8.2)\n",
      "Requirement already satisfied: urllib3<1.27,>=1.21.1 in c:\\users\\priya lakku\\anaconda3\\lib\\site-packages (from requests<3,>=2.21.0->tensorboard~=2.6->tensorflow->keras-tcn) (1.25.9)\n",
      "Requirement already satisfied: chardet<5,>=3.0.2 in c:\\users\\priya lakku\\anaconda3\\lib\\site-packages (from requests<3,>=2.21.0->tensorboard~=2.6->tensorflow->keras-tcn) (3.0.4)\n",
      "Requirement already satisfied: certifi>=2017.4.17 in c:\\users\\priya lakku\\anaconda3\\lib\\site-packages (from requests<3,>=2.21.0->tensorboard~=2.6->tensorflow->keras-tcn) (2020.6.20)\n",
      "Requirement already satisfied: idna<3,>=2.5 in c:\\users\\priya lakku\\anaconda3\\lib\\site-packages (from requests<3,>=2.21.0->tensorboard~=2.6->tensorflow->keras-tcn) (2.10)\n",
      "Requirement already satisfied: cachetools<5.0,>=2.0.0 in c:\\users\\priya lakku\\anaconda3\\lib\\site-packages (from google-auth<3,>=1.6.3->tensorboard~=2.6->tensorflow->keras-tcn) (4.2.4)\n",
      "Requirement already satisfied: rsa<5,>=3.1.4; python_version >= \"3.6\" in c:\\users\\priya lakku\\anaconda3\\lib\\site-packages (from google-auth<3,>=1.6.3->tensorboard~=2.6->tensorflow->keras-tcn) (4.8)\n",
      "Requirement already satisfied: pyasn1-modules>=0.2.1 in c:\\users\\priya lakku\\anaconda3\\lib\\site-packages (from google-auth<3,>=1.6.3->tensorboard~=2.6->tensorflow->keras-tcn) (0.2.8)\n",
      "Requirement already satisfied: requests-oauthlib>=0.7.0 in c:\\users\\priya lakku\\anaconda3\\lib\\site-packages (from google-auth-oauthlib<0.5,>=0.4.1->tensorboard~=2.6->tensorflow->keras-tcn) (1.3.0)\n",
      "Requirement already satisfied: zipp>=0.5 in c:\\users\\priya lakku\\anaconda3\\lib\\site-packages (from importlib-metadata>=4.4; python_version < \"3.10\"->markdown>=2.6.8->tensorboard~=2.6->tensorflow->keras-tcn) (3.1.0)\n",
      "Requirement already satisfied: pyasn1>=0.1.3 in c:\\users\\priya lakku\\anaconda3\\lib\\site-packages (from rsa<5,>=3.1.4; python_version >= \"3.6\"->google-auth<3,>=1.6.3->tensorboard~=2.6->tensorflow->keras-tcn) (0.4.8)\n",
      "Requirement already satisfied: oauthlib>=3.0.0 in c:\\users\\priya lakku\\anaconda3\\lib\\site-packages (from requests-oauthlib>=0.7.0->google-auth-oauthlib<0.5,>=0.4.1->tensorboard~=2.6->tensorflow->keras-tcn) (3.1.1)\n"
     ]
    }
   ],
   "source": [
    "#@title Library  { form-width: \"30%\" }\n",
    "import tensorflow.keras as keras\n",
    "from scipy.stats import entropy\n",
    "import tensorflow as tf\n",
    "import numpy as np\n",
    "import time\n",
    "from sklearn.metrics import roc_curve\n",
    "import matplotlib \n",
    "matplotlib.use('agg')\n",
    "import matplotlib.pyplot as plt \n",
    "import pandas as pd \n",
    "from scipy.fft import fft\n",
    "from scipy.stats import gennorm\n",
    "import numpy as np\n",
    "from scipy.special import gamma\n",
    "import math\n",
    "from keras.models import Sequential\n",
    "from keras.layers import Conv2D\n",
    "from keras.layers import MaxPooling2D\n",
    "from keras.layers import Flatten\n",
    "from keras.layers import Dense,LSTM\n",
    "from keras.utils.vis_utils import plot_model\n",
    "from keras.callbacks import ModelCheckpoint\n",
    "import matplotlib.pyplot as plt\n",
    "from sklearn.model_selection import train_test_split\n",
    "from sklearn import metrics\n",
    "from sklearn.metrics import classification_report\n",
    "from sklearn import preprocessing\n",
    "from scipy.signal import savgol_filter\n",
    "import keras\n",
    "from keras.models import Sequential\n",
    "from keras.layers import Dense, Dropout, Flatten, Reshape, GlobalAveragePooling1D\n",
    "from keras.layers import Conv2D, MaxPooling2D, Conv1D, MaxPooling1D\n",
    "from keras.utils import np_utils\n",
    "!pip install -q -U tensorflow-addons\n",
    "!pip install keras-tcn\n",
    "# from utils.utils import save_logs\n",
    "# from utils.utils import calculate_metrics"
   ]
  },
  {
   "cell_type": "code",
   "execution_count": 2,
   "metadata": {
    "cellView": "form",
    "id": "ER0bD09qXuew"
   },
   "outputs": [],
   "source": [
    "#@title DATA  { form-width: \"30%\" }\n",
    "def find_energy(signal, snr):\n",
    "  Y = fft(signal)\n",
    "  abs_Y = abs(Y)**2\n",
    "  r = np.mean(abs_Y)\n",
    "  return 2*snr*np.sum(r)\n",
    "def find_de(signal,beta):\n",
    "  alpha = np.log(beta*(np.sum(abs(signal-np.mean(signal))**beta))/len(signal))/beta\n",
    "  return 1/beta - np.log(beta/(2*math.gamma(1/beta))) + alpha\n",
    "def find_gp(signal):\n",
    "  return np.exp(np.mean(np.log(abs(np.array(signal)))))\n",
    "def find_lp(signal,p):\n",
    "  lp = np.mean(abs(signal)**p)\n",
    "  return lp \n",
    "def normalizeData(raw_data):\n",
    "  data = (raw_data - np.mean(raw_data))/np.sqrt(np.var(raw_data))\n",
    "  return data\n",
    "\n",
    "batch = 50\n",
    "df = pd.read_csv(r\"D:\\Spectrum-Sensing-master\\Datasets\\dataset3.csv\")\n",
    "raw_data = df.iloc[:,0]\n",
    "raw_data = raw_data.to_numpy()\n",
    "signal = normalizeData(raw_data[0:50000])\n",
    "lenSample = len(signal)\n",
    "# beta = 1.5\n",
    "TIME_PERIODS = 1\n",
    "\n",
    "def createTrainTest(data,Features):\n",
    "  x = data[:,0:Features]\n",
    "  y = data[:,-1]\n",
    "  return x,y\n",
    "\n",
    "def createFeature(beta,snrDB,p=0.5):\n",
    "  var = 1\n",
    "  alpha = np.sqrt((var*gamma(1/beta))/(gamma(3/beta)))\n",
    "  \n",
    "  snr = 10**(snrDB/10);\n",
    "  featuresMatrix = np.zeros(shape=(2000,5))\n",
    " \n",
    "  for i in range(0,lenSample,batch): \n",
    "    if i+batch <= lenSample:\n",
    "      noise = gennorm.rvs(beta, size=batch,scale = alpha)\n",
    "      \n",
    "      h1 = noise + np.sqrt(snr)*signal[i:i+batch]\n",
    "      h0 = gennorm.rvs(beta, size=batch,scale = alpha)\n",
    "      # features for h1\n",
    "      energy = find_energy(h1,snr)\n",
    "      de = find_de(h1,beta)\n",
    "      gp = find_gp(h1)\n",
    "      lp = find_lp(h1,p)\n",
    "      \n",
    "      featuresMatrix[i//batch] = [gp,de,lp,energy,1]\n",
    "      \n",
    "      # features for h0\n",
    "      energy = find_energy(h0,snr)\n",
    "      de = find_de(h0,beta)\n",
    "      gp = find_gp(h0)\n",
    "      lp = find_lp(h0,p)\n",
    "      \n",
    "      featuresMatrix[(lenSample+i)//batch] = [gp,de,lp,energy,0]\n",
    "      \n",
    "\n",
    "  featuresMatrix[:,0] = featuresMatrix[:,0]/max(featuresMatrix[:,0])\n",
    "  featuresMatrix[:,1] = featuresMatrix[:,1]/max(featuresMatrix[:,1])\n",
    "  featuresMatrix[:,2] = featuresMatrix[:,2]/max(featuresMatrix[:,2])\n",
    "  featuresMatrix[:,3] = featuresMatrix[:,3]/max(featuresMatrix[:,3])\n",
    "\n",
    "  np.random.shuffle(featuresMatrix)\n",
    "\n",
    "  return featuresMatrix\n",
    "\n",
    "def findPd(pf,pd):\n",
    "  temp = np.where((pf<=0.1) & (pf>0.0))[0]\n",
    "  if temp.size>0 and pd[temp[-1]] != 0.0:\n",
    "    return pd[temp[-1]]\n",
    "  else:\n",
    "    return 1.0"
   ]
  },
  {
   "cell_type": "markdown",
   "metadata": {
    "id": "S3c2uvG2VvtU"
   },
   "source": [
    "snrDB = np.flip(np.arange(-20,25,5))\n",
    "\n",
    "beta = 1\n",
    "\n",
    "pd_cnn = np.ones(len(snrDB))\n",
    "pd_mlp = np.ones(len(snrDB))\n",
    "pd_fcn = np.ones(len(snrDB))\n",
    "pd_rnet =np.ones(len(snrDB))\n",
    "pd_lstm =np.ones(len(snrDB))\n",
    "pd_tcn = np.ones(len(snrDB))\n",
    "\n",
    "num_time_periods = 1\n",
    "num_classes = 1\n",
    "num_sensors=4"
   ]
  },
  {
   "cell_type": "markdown",
   "metadata": {},
   "source": [
    "# Supervised Machine Learning Algorithms"
   ]
  },
  {
   "cell_type": "markdown",
   "metadata": {},
   "source": [
    "# KNN model"
   ]
  },
  {
   "cell_type": "code",
   "execution_count": 37,
   "metadata": {},
   "outputs": [
    {
     "name": "stdout",
     "output_type": "stream",
     "text": [
      "20\n",
      "Accuracy is 1.0\n",
      "probablity of detection is  1.0\n",
      "precision is 1.0\n",
      "recall is 1.0\n",
      "15\n",
      "Accuracy is 1.0\n",
      "probablity of detection is  1.0\n",
      "precision is 1.0\n",
      "recall is 1.0\n",
      "10\n",
      "Accuracy is 1.0\n",
      "probablity of detection is  1.0\n",
      "precision is 1.0\n",
      "recall is 1.0\n",
      "5\n",
      "Accuracy is 1.0\n",
      "probablity of detection is  1.0\n",
      "precision is 1.0\n",
      "recall is 1.0\n",
      "0\n",
      "Accuracy is 0.9475\n",
      "probablity of detection is  0.9521531100478469\n",
      "precision is 0.9607843137254902\n",
      "recall is 0.937799043062201\n",
      "-5\n",
      "Accuracy is 0.7875\n",
      "probablity of detection is  0.6728971962616822\n",
      "precision is 0.8208955223880597\n",
      "recall is 0.7710280373831776\n",
      "-10\n",
      "Accuracy is 0.6675\n",
      "probablity of detection is  0.22340425531914893\n",
      "precision is 0.6486486486486487\n",
      "recall is 0.6382978723404256\n",
      "-15\n",
      "Accuracy is 0.5525\n",
      "probablity of detection is  0.09569377990430622\n",
      "precision is 0.5925925925925926\n",
      "recall is 0.45933014354066987\n",
      "-20\n",
      "Accuracy is 0.525\n",
      "probablity of detection is  0.05612244897959184\n",
      "precision is 0.5157894736842106\n",
      "recall is 0.5\n"
     ]
    }
   ],
   "source": [
    "from sklearn.neighbors import KNeighborsClassifier\n",
    "from sklearn.metrics import precision_score\n",
    "from sklearn.metrics import recall_score\n",
    "pd_knn=np.ones(len(snrDB))\n",
    "pf_knn=np.ones(len(snrDB))\n",
    "for i in range(len(snrDB)):\n",
    "  \n",
    "  featuresMatrix=createFeature(beta,snrDB[i])\n",
    "\n",
    "  df_train,df_test = train_test_split(featuresMatrix, test_size=0.2, random_state=42)\n",
    "  x_train, y_train = createTrainTest(df_train,num_sensors)\n",
    "  x_test, y_test = createTrainTest(df_test,num_sensors)\n",
    "\n",
    "  input_shape = (num_time_periods*num_sensors)\n",
    "  \n",
    "  x_train = x_train.reshape(x_train.shape[0], input_shape)\n",
    "  \n",
    "  x_train = x_train.astype(\"float32\")\n",
    "  y_train = y_train.astype(\"float32\")\n",
    "\n",
    "  x_test = x_test.reshape(x_test.shape[0], input_shape)\n",
    "\n",
    "  x_test = x_test.astype(\"float32\")\n",
    "  y_test = y_test.astype(\"float32\")\n",
    "  print(snrDB[i])\n",
    "  model_knn  = KNeighborsClassifier(n_neighbors=20);\n",
    "  model_knn.fit(x_train, y_train)\n",
    "  y_pred = model_knn.predict_proba(x_test)[: ,1]\n",
    "  fpr_knn, tpr_knn, _ = roc_curve(y_test,y_pred,pos_label=1)\n",
    "  pd_knn[i]=findPd(fpr_knn,tpr_knn)\n",
    "  precision_knn=precision_score(y_test,y_pred.round())\n",
    "  recall_knn=recall_score(y_test,y_pred.round())\n",
    "  print(\"Accuracy is\",model_knn.score(x_test,y_test))\n",
    "  print(\"probablity of detection is \",pd_knn[i])\n",
    "  print(\"precision is\",precision_knn)\n",
    "  print(\"recall is\",recall_knn)\n",
    "    \n"
   ]
  },
  {
   "cell_type": "code",
   "execution_count": 88,
   "metadata": {},
   "outputs": [
    {
     "data": {
      "image/png": "[encoded data removed]",
      "text/plain": [
       "<Figure size 432x288 with 1 Axes>"
      ]
     },
     "metadata": {
      "needs_background": "light"
     },
     "output_type": "display_data"
    },
    {
     "name": "stderr",
     "output_type": "stream",
     "text": [
      "The PostScript backend does not support transparency; partially transparent artists will be rendered opaque.\n",
      "The PostScript backend does not support transparency; partially transparent artists will be rendered opaque.\n"
     ]
    }
   ],
   "source": [
    "%matplotlib inline\n",
    "fig = plt.figure()\n",
    "plt.plot(snrDB,pd_knn,label = 'KNN')\n",
    "plt.xlim([-20,0])\n",
    "plt.xlabel('SNR (dB)',fontsize=16)\n",
    "plt.ylabel('Probability of detection (Pd)',fontsize=16)\n",
    "plt.title(\"KNN algorithm\")\n",
    "plt.legend(fontsize=12)\n",
    "plt.show()\n",
    "fig.savefig('raw.eps')\n"
   ]
  },
  {
   "cell_type": "markdown",
   "metadata": {},
   "source": [
    "# SVM model"
   ]
  },
  {
   "cell_type": "code",
   "execution_count": 79,
   "metadata": {},
   "outputs": [
    {
     "name": "stderr",
     "output_type": "stream",
     "text": [
      "C:\\Users\\PRIYA LAKKU\\anaconda3\\lib\\site-packages\\sklearn\\metrics\\_classification.py:1267: UserWarning: Note that pos_label (set to 'positive') is ignored when average != 'binary' (got 'micro'). You may use labels=[pos_label] to specify a single positive class.\n",
      "  warnings.warn(\"Note that pos_label (set to %r) is ignored when \"\n"
     ]
    },
    {
     "name": "stdout",
     "output_type": "stream",
     "text": [
      "20\n",
      "Accuracy is 1.0\n",
      "probablity of detection is  1.0\n",
      "precision is 0.1425\n",
      "recall is 0.1425\n"
     ]
    },
    {
     "name": "stderr",
     "output_type": "stream",
     "text": [
      "C:\\Users\\PRIYA LAKKU\\anaconda3\\lib\\site-packages\\sklearn\\metrics\\_classification.py:1267: UserWarning: Note that pos_label (set to 'positive') is ignored when average != 'binary' (got 'micro'). You may use labels=[pos_label] to specify a single positive class.\n",
      "  warnings.warn(\"Note that pos_label (set to %r) is ignored when \"\n"
     ]
    },
    {
     "name": "stdout",
     "output_type": "stream",
     "text": [
      "15\n",
      "Accuracy is 1.0\n",
      "probablity of detection is  1.0\n",
      "precision is 0.17\n",
      "recall is 0.17\n"
     ]
    },
    {
     "name": "stderr",
     "output_type": "stream",
     "text": [
      "C:\\Users\\PRIYA LAKKU\\anaconda3\\lib\\site-packages\\sklearn\\metrics\\_classification.py:1267: UserWarning: Note that pos_label (set to 'positive') is ignored when average != 'binary' (got 'micro'). You may use labels=[pos_label] to specify a single positive class.\n",
      "  warnings.warn(\"Note that pos_label (set to %r) is ignored when \"\n"
     ]
    },
    {
     "name": "stdout",
     "output_type": "stream",
     "text": [
      "10\n",
      "Accuracy is 1.0\n",
      "probablity of detection is  1.0\n",
      "precision is 0.0675\n",
      "recall is 0.0675\n"
     ]
    },
    {
     "name": "stderr",
     "output_type": "stream",
     "text": [
      "C:\\Users\\PRIYA LAKKU\\anaconda3\\lib\\site-packages\\sklearn\\metrics\\_classification.py:1267: UserWarning: Note that pos_label (set to 'positive') is ignored when average != 'binary' (got 'micro'). You may use labels=[pos_label] to specify a single positive class.\n",
      "  warnings.warn(\"Note that pos_label (set to %r) is ignored when \"\n"
     ]
    },
    {
     "name": "stdout",
     "output_type": "stream",
     "text": [
      "5\n",
      "Accuracy is 1.0\n",
      "probablity of detection is  1.0\n",
      "precision is 0.05\n",
      "recall is 0.05\n"
     ]
    },
    {
     "name": "stderr",
     "output_type": "stream",
     "text": [
      "C:\\Users\\PRIYA LAKKU\\anaconda3\\lib\\site-packages\\sklearn\\metrics\\_classification.py:1267: UserWarning: Note that pos_label (set to 'positive') is ignored when average != 'binary' (got 'micro'). You may use labels=[pos_label] to specify a single positive class.\n",
      "  warnings.warn(\"Note that pos_label (set to %r) is ignored when \"\n"
     ]
    },
    {
     "name": "stdout",
     "output_type": "stream",
     "text": [
      "0\n",
      "Accuracy is 0.9575\n",
      "probablity of detection is  0.9794871794871794\n",
      "precision is 0.1275\n",
      "recall is 0.1275\n"
     ]
    },
    {
     "name": "stderr",
     "output_type": "stream",
     "text": [
      "C:\\Users\\PRIYA LAKKU\\anaconda3\\lib\\site-packages\\sklearn\\metrics\\_classification.py:1267: UserWarning: Note that pos_label (set to 'positive') is ignored when average != 'binary' (got 'micro'). You may use labels=[pos_label] to specify a single positive class.\n",
      "  warnings.warn(\"Note that pos_label (set to %r) is ignored when \"\n"
     ]
    },
    {
     "name": "stdout",
     "output_type": "stream",
     "text": [
      "-5\n",
      "Accuracy is 0.845\n",
      "probablity of detection is  0.7591623036649214\n",
      "precision is 0.2975\n",
      "recall is 0.2975\n"
     ]
    },
    {
     "name": "stderr",
     "output_type": "stream",
     "text": [
      "C:\\Users\\PRIYA LAKKU\\anaconda3\\lib\\site-packages\\sklearn\\metrics\\_classification.py:1267: UserWarning: Note that pos_label (set to 'positive') is ignored when average != 'binary' (got 'micro'). You may use labels=[pos_label] to specify a single positive class.\n",
      "  warnings.warn(\"Note that pos_label (set to %r) is ignored when \"\n"
     ]
    },
    {
     "name": "stdout",
     "output_type": "stream",
     "text": [
      "-10\n",
      "Accuracy is 0.67\n",
      "probablity of detection is  0.3181818181818182\n",
      "precision is 0.405\n",
      "recall is 0.405\n"
     ]
    },
    {
     "name": "stderr",
     "output_type": "stream",
     "text": [
      "C:\\Users\\PRIYA LAKKU\\anaconda3\\lib\\site-packages\\sklearn\\metrics\\_classification.py:1267: UserWarning: Note that pos_label (set to 'positive') is ignored when average != 'binary' (got 'micro'). You may use labels=[pos_label] to specify a single positive class.\n",
      "  warnings.warn(\"Note that pos_label (set to %r) is ignored when \"\n"
     ]
    },
    {
     "name": "stdout",
     "output_type": "stream",
     "text": [
      "-15\n",
      "Accuracy is 0.5975\n",
      "probablity of detection is  0.20304568527918782\n",
      "precision is 0.3825\n",
      "recall is 0.3825\n",
      "-20\n",
      "Accuracy is 0.5675\n",
      "probablity of detection is  0.16097560975609757\n",
      "precision is 0.4025\n",
      "recall is 0.4025\n"
     ]
    },
    {
     "name": "stderr",
     "output_type": "stream",
     "text": [
      "C:\\Users\\PRIYA LAKKU\\anaconda3\\lib\\site-packages\\sklearn\\metrics\\_classification.py:1267: UserWarning: Note that pos_label (set to 'positive') is ignored when average != 'binary' (got 'micro'). You may use labels=[pos_label] to specify a single positive class.\n",
      "  warnings.warn(\"Note that pos_label (set to %r) is ignored when \"\n"
     ]
    }
   ],
   "source": [
    "from sklearn import svm\n",
    "from sklearn.metrics import confusion_matrix\n",
    "\n",
    "pd_svm = np.ones(len(snrDB))\n",
    "for i in range(len(snrDB)):\n",
    "  \n",
    "  featuresMatrix=createFeature(beta,snrDB[i])\n",
    "\n",
    "  df_train,df_test = train_test_split(featuresMatrix, test_size=0.2, random_state=42)\n",
    "  x_train, y_train = createTrainTest(df_train,num_sensors)\n",
    "  x_test, y_test = createTrainTest(df_test,num_sensors)\n",
    "\n",
    "  \n",
    "  input_shape = (num_time_periods*num_sensors)\n",
    "  \n",
    "  x_train = x_train.reshape(x_train.shape[0], input_shape)\n",
    "  \n",
    "  x_train = x_train.astype(\"float32\")\n",
    "  y_train = y_train.astype(\"float32\")\n",
    "\n",
    "  x_test = x_test.reshape(x_test.shape[0], input_shape)\n",
    "\n",
    "  x_test = x_test.astype(\"float32\")\n",
    "  y_test = y_test.astype(\"float32\")\n",
    "  model_svm = svm.SVC(kernel = 'linear')\n",
    "  model_svm.fit(x_train, y_train)\n",
    "  y_pred = model_svm.decision_function(x_test) \n",
    "  fpr_svm, tpr_svm, thresholds_keras = roc_curve(y_test,y_pred)\n",
    "  pd_svm[i]=findPd(fpr_svm,tpr_svm)\n",
    "  precision_svm=precision_score(y_test,y_pred.round(),pos_label='positive',average='micro')\n",
    "  recall_svm=recall_score(y_test,y_pred.round(),pos_label='positive',average='micro')\n",
    "  print(snrDB[i])\n",
    "  print(\"Accuracy is\",model_svm.score(x_test,y_test))\n",
    "  print(\"probablity of detection is \",pd_svm[i])\n",
    "  print(\"precision is\",precision_svm)\n",
    "  print(\"recall is\",recall_svm)\n",
    " "
   ]
  },
  {
   "cell_type": "code",
   "execution_count": 90,
   "metadata": {},
   "outputs": [
    {
     "data": {
      "image/png": "[encoded data removed]",
      "text/plain": [
       "<Figure size 432x288 with 1 Axes>"
      ]
     },
     "metadata": {
      "needs_background": "light"
     },
     "output_type": "display_data"
    },
    {
     "name": "stderr",
     "output_type": "stream",
     "text": [
      "The PostScript backend does not support transparency; partially transparent artists will be rendered opaque.\n",
      "The PostScript backend does not support transparency; partially transparent artists will be rendered opaque.\n"
     ]
    }
   ],
   "source": [
    "%matplotlib inline\n",
    "fig = plt.figure()\n",
    "plt.plot(snrDB,pd_svm,label = 'SVM',linestyle=\"dashed\",linewidth='2',c='r')\n",
    "plt.xlim([-20,0])\n",
    "plt.xlabel('SNR (dB)',fontsize=16)\n",
    "plt.ylabel('Probability of detection (Pd)',fontsize=16)\n",
    "plt.title(\"SVM algorithm\")\n",
    "plt.legend(fontsize=12)\n",
    "plt.show()\n",
    "fig.savefig('raw.eps')"
   ]
  },
  {
   "cell_type": "markdown",
   "metadata": {},
   "source": [
    "# LogisticRegression"
   ]
  },
  {
   "cell_type": "code",
   "execution_count": 87,
   "metadata": {},
   "outputs": [
    {
     "name": "stdout",
     "output_type": "stream",
     "text": [
      "20\n",
      "Accuracy is 1.0\n",
      "probablity of detection is  1.0\n",
      "precision is 1.0\n",
      "recall is 1.0\n",
      "15\n",
      "Accuracy is 1.0\n",
      "probablity of detection is  1.0\n",
      "precision is 1.0\n",
      "recall is 1.0\n",
      "10\n",
      "Accuracy is 1.0\n",
      "probablity of detection is  1.0\n",
      "precision is 1.0\n",
      "recall is 1.0\n",
      "5\n",
      "Accuracy is 1.0\n",
      "probablity of detection is  1.0\n",
      "precision is 1.0\n",
      "recall is 1.0\n",
      "0\n",
      "Accuracy is 0.97\n",
      "probablity of detection is  0.9895287958115183\n",
      "precision is 0.9685863874345549\n",
      "recall is 0.9685863874345549\n",
      "-5\n",
      "Accuracy is 0.81\n",
      "probablity of detection is  0.6048780487804878\n",
      "precision is 0.8177339901477833\n",
      "recall is 0.8097560975609757\n",
      "-10\n",
      "Accuracy is 0.68\n",
      "probablity of detection is  0.3446327683615819\n",
      "precision is 0.6129032258064516\n",
      "recall is 0.751412429378531\n",
      "-15\n",
      "Accuracy is 0.5425\n",
      "probablity of detection is  0.19117647058823528\n",
      "precision is 0.5567567567567567\n",
      "recall is 0.5049019607843137\n",
      "-20\n",
      "Accuracy is 0.5125\n",
      "probablity of detection is  0.08737864077669903\n",
      "precision is 0.535031847133758\n",
      "recall is 0.4077669902912621\n"
     ]
    }
   ],
   "source": [
    "from sklearn.linear_model import LogisticRegression\n",
    "from sklearn import metrics\n",
    "\n",
    "pd_lr = np.ones(len(snrDB))\n",
    "for i in range(len(snrDB)):\n",
    "  \n",
    "  featuresMatrix=createFeature(beta,snrDB[i])\n",
    "\n",
    "  df_train,df_test = train_test_split(featuresMatrix, test_size=0.2, random_state=42)\n",
    "  x_train, y_train = createTrainTest(df_train,num_sensors)\n",
    "  x_test, y_test = createTrainTest(df_test,num_sensors)\n",
    "\n",
    "  \n",
    "  input_shape = (num_time_periods*num_sensors)\n",
    "  \n",
    "  x_train = x_train.reshape(x_train.shape[0], input_shape)\n",
    "  \n",
    "  x_train = x_train.astype(\"float32\")\n",
    "  y_train = y_train.astype(\"float32\")\n",
    "\n",
    "  x_test = x_test.reshape(x_test.shape[0], input_shape)\n",
    "\n",
    "  x_test = x_test.astype(\"float32\")\n",
    "  y_test = y_test.astype(\"float32\")\n",
    "  model_lr=LogisticRegression()\n",
    "  model_lr.fit(x_train,y_train)\n",
    "  y_pred=model_lr.predict_proba(x_test)[:,1]\n",
    "  fpr_lr, tpr_lr, thresholds = roc_curve(y_test, y_pred,pos_label=1)\n",
    "  pd_lr[i]=findPd(fpr_lr,tpr_lr)\n",
    "  precision_lr=precision_score(y_test,y_pred.round())\n",
    "  recall_lr=recall_score(y_test,y_pred.round())\n",
    "  print(snrDB[i])\n",
    "  print(\"Accuracy is\",model_lr.score(x_test,y_test))\n",
    "  print(\"probablity of detection is \",pd_lr[i])\n",
    "  print(\"precision is\",precision_lr)\n",
    "  print(\"recall is\",recall_lr)"
   ]
  },
  {
   "cell_type": "code",
   "execution_count": 91,
   "metadata": {},
   "outputs": [
    {
     "data": {
      "image/png": "[encoded data removed]",
      "text/plain": [
       "<Figure size 432x288 with 1 Axes>"
      ]
     },
     "metadata": {
      "needs_background": "light"
     },
     "output_type": "display_data"
    },
    {
     "name": "stderr",
     "output_type": "stream",
     "text": [
      "The PostScript backend does not support transparency; partially transparent artists will be rendered opaque.\n",
      "The PostScript backend does not support transparency; partially transparent artists will be rendered opaque.\n"
     ]
    }
   ],
   "source": [
    "%matplotlib inline\n",
    "fig = plt.figure()\n",
    "plt.plot(snrDB,pd_lr,label = 'Logistic Regression',linestyle='dashdot',linewidth='2',c='black')\n",
    "plt.xlim([-20,0])\n",
    "plt.xlabel('SNR (dB)',fontsize=16)\n",
    "plt.ylabel('Probability of detection (Pd)',fontsize=16)\n",
    "plt.title(\"Logistic Regression algorithm\")\n",
    "plt.legend(fontsize=12)\n",
    "plt.show()\n",
    "fig.savefig('raw.eps')"
   ]
  },
  {
   "cell_type": "markdown",
   "metadata": {},
   "source": [
    "# RandomForest"
   ]
  },
  {
   "cell_type": "code",
   "execution_count": 81,
   "metadata": {},
   "outputs": [
    {
     "name": "stdout",
     "output_type": "stream",
     "text": [
      "20\n",
      "Accuracy is 1.0\n",
      "probablity of detection is  1.0\n",
      "precision is 0.0\n",
      "recall is 0.0\n",
      "15\n",
      "Accuracy is 1.0\n",
      "probablity of detection is  1.0\n",
      "precision is 0.0\n",
      "recall is 0.0\n",
      "10\n",
      "Accuracy is 1.0\n",
      "probablity of detection is  1.0\n",
      "precision is 0.0\n",
      "recall is 0.0\n",
      "5\n",
      "Accuracy is 1.0\n",
      "probablity of detection is  1.0\n",
      "precision is 0.0\n",
      "recall is 0.0\n",
      "0\n",
      "Accuracy is 0.9525\n",
      "probablity of detection is  0.994535519125683\n",
      "precision is 0.05913978494623656\n",
      "recall is 0.05069124423963134\n",
      "-5\n",
      "Accuracy is 0.8025\n",
      "probablity of detection is  0.6262626262626263\n",
      "precision is 0.22580645161290322\n",
      "recall is 0.24257425742574257\n",
      "-10\n",
      "Accuracy is 0.68\n",
      "probablity of detection is  0.37755102040816324\n",
      "precision is 0.3316831683168317\n",
      "recall is 0.3284313725490196\n",
      "-15\n",
      "Accuracy is 0.55\n",
      "probablity of detection is  0.19369369369369369\n",
      "precision is 0.38333333333333336\n",
      "recall is 0.38764044943820225\n",
      "-20\n",
      "Accuracy is 0.535\n",
      "probablity of detection is  0.09859154929577464\n",
      "precision is 0.43349753694581283\n",
      "recall is 0.47058823529411764\n"
     ]
    }
   ],
   "source": [
    "from sklearn.ensemble import RandomForestClassifier\n",
    "\n",
    "pd_rf = np.ones(len(snrDB))\n",
    "for i in range(len(snrDB)):\n",
    "  \n",
    "  featuresMatrix=createFeature(beta,snrDB[i])\n",
    "\n",
    "  df_train,df_test = train_test_split(featuresMatrix, test_size=0.2, random_state=42)\n",
    "  x_train, y_train = createTrainTest(df_train,num_sensors)\n",
    "  x_test, y_test = createTrainTest(df_test,num_sensors)\n",
    "\n",
    "  \n",
    "  input_shape = (num_time_periods*num_sensors)\n",
    "  \n",
    "  x_train = x_train.reshape(x_train.shape[0], input_shape)\n",
    "  \n",
    "  x_train = x_train.astype(\"float32\")\n",
    "  y_train = y_train.astype(\"float32\")\n",
    "\n",
    "  x_test = x_test.reshape(x_test.shape[0], input_shape)\n",
    "\n",
    "  x_test = x_test.astype(\"float32\")\n",
    "  y_test = y_test.astype(\"float32\")\n",
    "  model_rf=RandomForestClassifier(random_state=42, n_jobs=-1, max_depth=5,n_estimators=100, oob_score=True)\n",
    "  model_rf.fit(x_train,y_train)\n",
    "  y_pred=model_rf.predict_proba(x_test)[:,0]\n",
    "  fpr_lr, tpr_lr, thresholds = roc_curve(y_test, y_pred,pos_label=0)\n",
    "  pd_rf[i]=findPd(fpr_lr,tpr_lr)\n",
    "  precision_rf=precision_score(y_test,y_pred.round())\n",
    "  recall_rf=recall_score(y_test,y_pred.round())\n",
    "  print(snrDB[i])\n",
    "  print(\"Accuracy is\",model_rf.score(x_test,y_test))\n",
    "  print(\"probablity of detection is \",pd_rf[i])\n",
    "  print(\"precision is\",precision_rf)\n",
    "  print(\"recall is\",recall_rf)"
   ]
  },
  {
   "cell_type": "code",
   "execution_count": 92,
   "metadata": {},
   "outputs": [
    {
     "data": {
      "image/png": "[encoded data removed]",
      "text/plain": [
       "<Figure size 432x288 with 1 Axes>"
      ]
     },
     "metadata": {
      "needs_background": "light"
     },
     "output_type": "display_data"
    },
    {
     "name": "stderr",
     "output_type": "stream",
     "text": [
      "The PostScript backend does not support transparency; partially transparent artists will be rendered opaque.\n",
      "The PostScript backend does not support transparency; partially transparent artists will be rendered opaque.\n"
     ]
    }
   ],
   "source": [
    "%matplotlib inline\n",
    "fig = plt.figure()\n",
    "plt.plot(snrDB,pd_rf,label = 'Random Forest',linewidth='2',c='g')\n",
    "plt.xlim([-20,0])\n",
    "plt.xlabel('SNR (dB)',fontsize=16)\n",
    "plt.ylabel('Probability of detection (Pd)',fontsize=16)\n",
    "plt.title(\"Random Forest algorithm\")\n",
    "plt.legend(fontsize=12)\n",
    "plt.show()\n",
    "fig.savefig('raw.eps')"
   ]
  },
  {
   "cell_type": "code",
   "execution_count": 93,
   "metadata": {},
   "outputs": [
    {
     "data": {
      "image/png": "[encoded data removed]",
      "text/plain": [
       "<Figure size 432x288 with 1 Axes>"
      ]
     },
     "metadata": {
      "needs_background": "light"
     },
     "output_type": "display_data"
    },
    {
     "name": "stderr",
     "output_type": "stream",
     "text": [
      "The PostScript backend does not support transparency; partially transparent artists will be rendered opaque.\n",
      "The PostScript backend does not support transparency; partially transparent artists will be rendered opaque.\n"
     ]
    }
   ],
   "source": [
    "%matplotlib inline\n",
    "fig = plt.figure()\n",
    "plt.plot(snrDB,pd_knn,label = 'KNN')\n",
    "plt.plot(snrDB,pd_svm,label = 'SVM')\n",
    "plt.plot(snrDB,pd_lr,label = 'LR')\n",
    "plt.plot(snrDB,pd_rf,label = 'RF')\n",
    "plt.xlim([-20,0])\n",
    "plt.xlabel('SNR (dB)',fontsize=16)\n",
    "plt.ylabel('Probability of detection (Pd)',fontsize=16)\n",
    "plt.legend(fontsize=12)\n",
    "plt.show()\n",
    "fig.savefig('raw.eps')"
   ]
  },
  {
   "cell_type": "markdown",
   "metadata": {},
   "source": [
    "# DNN ARCHITECTURES"
   ]
  },
  {
   "cell_type": "code",
   "execution_count": 4,
   "metadata": {},
   "outputs": [],
   "source": [
    "#@title Model train/test  { form-width: \"30%\" }\n",
    "def trainingModel(model,tcn=False):\n",
    "  if tcn:\n",
    "    model.compile(\n",
    "    loss='sparse_categorical_crossentropy',\n",
    "                optimizer='adam', metrics=['accuracy'])\n",
    "\n",
    "    # Hyper-parameters\n",
    "    BATCH_SIZE = 200\n",
    "    EPOCHS = 5\n",
    "\n",
    "    # Enable validation to use ModelCheckpoint and EarlyStopping callbacks.\n",
    "    history = model.fit(x_train,\n",
    "                          y_train,\n",
    "                          batch_size=BATCH_SIZE,\n",
    "                          epochs=EPOCHS,\n",
    "\n",
    "                          validation_split=0.2,\n",
    "                          verbose=0\n",
    "                          )\n",
    "    y_pred = model.predict(x_test)\n",
    "\n",
    "    y_pred2=[]\n",
    "    for i in y_pred:\n",
    "      # print(i[0])\n",
    "      if(i[0]>i[1]):\n",
    "        y_pred2.append(i[1])\n",
    "      else:\n",
    "        y_pred2.append(i[1])\n",
    "    y_test2=[]\n",
    "    fpr_keras, tpr_keras, thresholds_keras = roc_curve(y_test,y_pred2)\n",
    "    return fpr_keras,tpr_keras\n",
    "\n",
    "  model.compile(\n",
    "      loss='binary_crossentropy',\n",
    "                  optimizer='adam', metrics=['binary_accuracy'])\n",
    "\n",
    "  # Hyper-parameters\n",
    "  BATCH_SIZE = 10\n",
    "  EPOCHS = 10\n",
    "\n",
    "  # Enable validation to use ModelCheckpoint and EarlyStopping callbacks.\n",
    "  history = model.fit(x_train,\n",
    "                        y_train,\n",
    "                        batch_size=BATCH_SIZE,\n",
    "                        epochs=EPOCHS,\n",
    "                \n",
    "                        validation_split=0.2,\n",
    "                        verbose=0\n",
    "                        )\n",
    "  accuracy_results = model.evaluate(x_test, y_test)\n",
    "  print(\"Accuracy :\",accuracy_results)\n",
    "  \n",
    "  y_pred = model.predict(x_test)\n",
    "  fpr_keras, tpr_keras, thresholds_keras = roc_curve(y_test,y_pred)\n",
    "  return fpr_keras,tpr_keras"
   ]
  },
  {
   "cell_type": "markdown",
   "metadata": {},
   "source": [
    "# CNN MODEL"
   ]
  },
  {
   "cell_type": "code",
   "execution_count": 5,
   "metadata": {},
   "outputs": [
    {
     "name": "stdout",
     "output_type": "stream",
     "text": [
      "WARNING:tensorflow:Compiled the loaded model, but the compiled metrics have yet to be built. `model.compile_metrics` will be empty until you train or evaluate the model.\n",
      "Model: \"sequential\"\n",
      "_________________________________________________________________\n",
      " Layer (type)                Output Shape              Param #   \n",
      "=================================================================\n",
      " reshape (Reshape)           (None, 4, 1)              0         \n",
      "                                                                 \n",
      " conv1d (Conv1D)             (None, 4, 50)             100       \n",
      "                                                                 \n",
      " conv1d_1 (Conv1D)           (None, 4, 50)             2550      \n",
      "                                                                 \n",
      " max_pooling1d (MaxPooling1D  (None, 4, 50)            0         \n",
      " )                                                               \n",
      "                                                                 \n",
      " dense (Dense)               (None, 4, 50)             2550      \n",
      "                                                                 \n",
      " dense_1 (Dense)             (None, 4, 50)             2550      \n",
      "                                                                 \n",
      " global_average_pooling1d (G  (None, 50)               0         \n",
      " lobalAveragePooling1D)                                          \n",
      "                                                                 \n",
      " dense_2 (Dense)             (None, 1)                 51        \n",
      "                                                                 \n",
      "=================================================================\n",
      "Total params: 7,801\n",
      "Trainable params: 7,801\n",
      "Non-trainable params: 0\n",
      "_________________________________________________________________\n",
      "None\n"
     ]
    }
   ],
   "source": [
    "#@title CNN  { form-width: \"30%\" }\n",
    "model_cnn = Sequential()\n",
    "model_cnn.add(Reshape((num_sensors, 1), input_shape=(num_sensors,)))\n",
    "model_cnn.add(Conv1D(50, 1, activation='relu', input_shape=(num_sensors,1)))\n",
    "model_cnn.add(Conv1D(50, 1, activation='relu'))\n",
    "model_cnn.add(MaxPooling1D(1))\n",
    "model_cnn.add(Dense(50,activation='relu'))\n",
    "model_cnn.add(Dense(50,activation='relu'))\n",
    "model_cnn.add(GlobalAveragePooling1D())\n",
    "model_cnn.add(Dense(num_classes, activation='sigmoid'))\n",
    "model_cnn.save('CNN.h5')\n",
    "print(model_cnn.summary())"
   ]
  },
  {
   "cell_type": "code",
   "execution_count": 6,
   "metadata": {},
   "outputs": [
    {
     "name": "stdout",
     "output_type": "stream",
     "text": [
      "20\n",
      "13/13 [==============================] - 1s 3ms/step - loss: 4.0668e-05 - binary_accuracy: 1.0000\n",
      "Accuracy : [4.066770998178981e-05, 1.0]\n",
      "probablity of detection is 1.0\n",
      "15\n",
      "13/13 [==============================] - 0s 3ms/step - loss: 2.5419e-07 - binary_accuracy: 1.0000\n",
      "Accuracy : [2.541937362821045e-07, 1.0]\n",
      "probablity of detection is 1.0\n",
      "10\n",
      "13/13 [==============================] - 0s 3ms/step - loss: 9.0065e-06 - binary_accuracy: 1.0000\n",
      "Accuracy : [9.006451364257373e-06, 1.0]\n",
      "probablity of detection is 1.0\n",
      "5\n",
      "13/13 [==============================] - 0s 3ms/step - loss: 0.0145 - binary_accuracy: 0.9950\n",
      "Accuracy : [0.014536712318658829, 0.9950000047683716]\n",
      "probablity of detection is 1.0\n",
      "0\n",
      "13/13 [==============================] - 0s 3ms/step - loss: 0.1129 - binary_accuracy: 0.9500\n",
      "Accuracy : [0.11288253962993622, 0.949999988079071]\n",
      "probablity of detection is 0.9855072463768116\n",
      "-5\n",
      "13/13 [==============================] - 0s 3ms/step - loss: 0.4835 - binary_accuracy: 0.8025\n",
      "Accuracy : [0.48351284861564636, 0.8025000095367432]\n",
      "probablity of detection is 0.6276595744680851\n",
      "-10\n",
      "13/13 [==============================] - 0s 3ms/step - loss: 0.6446 - binary_accuracy: 0.6475\n",
      "Accuracy : [0.6446446776390076, 0.6474999785423279]\n",
      "probablity of detection is 0.23076923076923078\n",
      "-15\n",
      "13/13 [==============================] - 0s 2ms/step - loss: 0.6806 - binary_accuracy: 0.5850\n",
      "Accuracy : [0.6805996894836426, 0.5849999785423279]\n",
      "probablity of detection is 0.18407960199004975\n",
      "-20\n",
      "13/13 [==============================] - 0s 3ms/step - loss: 0.6894 - binary_accuracy: 0.5750\n",
      "Accuracy : [0.6894029974937439, 0.574999988079071]\n",
      "probablity of detection is 0.14210526315789473\n"
     ]
    }
   ],
   "source": [
    "for i in range(len(snrDB)):\n",
    "  \n",
    "  featuresMatrix=createFeature(beta,snrDB[i])\n",
    "\n",
    "  df_train,df_test = train_test_split(featuresMatrix, test_size=0.2, random_state=42)\n",
    "  x_train, y_train = createTrainTest(df_train,num_sensors)\n",
    "  x_test, y_test = createTrainTest(df_test,num_sensors)\n",
    "\n",
    "  print(snrDB[i])\n",
    "  input_shape = (num_time_periods*num_sensors)\n",
    "  \n",
    "  x_train = x_train.reshape(x_train.shape[0], input_shape)\n",
    "  \n",
    "  x_train = x_train.astype(\"float32\")\n",
    "  y_train = y_train.astype(\"float32\")\n",
    "\n",
    "  x_test = x_test.reshape(x_test.shape[0], input_shape)\n",
    "\n",
    "  x_test = x_test.astype(\"float32\")\n",
    "  y_test = y_test.astype(\"float32\")\n",
    "\n",
    "  fpr_cnn,tpr_cnn = trainingModel(model_cnn)\n",
    "  pd_cnn[i]=findPd(fpr_cnn,tpr_cnn)\n",
    "  print(\"probablity of detection is\",pd_cnn[i])"
   ]
  },
  {
   "cell_type": "code",
   "execution_count": 7,
   "metadata": {},
   "outputs": [
    {
     "data": {
      "image/png": "[encoded data removed]",
      "text/plain": [
       "<Figure size 432x288 with 1 Axes>"
      ]
     },
     "metadata": {
      "needs_background": "light"
     },
     "output_type": "display_data"
    },
    {
     "name": "stderr",
     "output_type": "stream",
     "text": [
      "The PostScript backend does not support transparency; partially transparent artists will be rendered opaque.\n",
      "The PostScript backend does not support transparency; partially transparent artists will be rendered opaque.\n"
     ]
    }
   ],
   "source": [
    "%matplotlib inline\n",
    "fig = plt.figure()\n",
    "plt.plot(snrDB,pd_cnn,label = 'CNN',linewidth='2',c='g')\n",
    "plt.xlim([-20,0])\n",
    "plt.xlabel('SNR (dB)',fontsize=16)\n",
    "plt.ylabel('Probability of detection (Pd)',fontsize=16)\n",
    "plt.title(\"Convolution Neural Network\")\n",
    "plt.legend(fontsize=12)\n",
    "plt.show()\n",
    "fig.savefig('raw.eps')"
   ]
  },
  {
   "cell_type": "markdown",
   "metadata": {},
   "source": [
    "# MLP MODEL"
   ]
  },
  {
   "cell_type": "code",
   "execution_count": 8,
   "metadata": {},
   "outputs": [
    {
     "name": "stdout",
     "output_type": "stream",
     "text": [
      "Model: \"sequential_1\"\n",
      "_________________________________________________________________\n",
      " Layer (type)                Output Shape              Param #   \n",
      "=================================================================\n",
      " dense_3 (Dense)             (None, 100)               500       \n",
      "                                                                 \n",
      " dense_4 (Dense)             (None, 100)               10100     \n",
      "                                                                 \n",
      " dense_5 (Dense)             (None, 100)               10100     \n",
      "                                                                 \n",
      " dense_6 (Dense)             (None, 1)                 101       \n",
      "                                                                 \n",
      "=================================================================\n",
      "Total params: 20,801\n",
      "Trainable params: 20,801\n",
      "Non-trainable params: 0\n",
      "_________________________________________________________________\n",
      "None\n"
     ]
    }
   ],
   "source": [
    "#@title MLP  { form-width: \"30%\" }\n",
    "model_mlp = Sequential()\n",
    "model_mlp.add(keras.Input(shape=(num_sensors,)))\n",
    "model_mlp.add(Dense(100,activation='relu'))\n",
    "model_mlp.add(Dense(100,activation='relu'))\n",
    "model_mlp.add(Dense(100,activation='relu'))\n",
    "model_mlp.add(Dense(1,activation='sigmoid'))\n",
    "print(model_mlp.summary())"
   ]
  },
  {
   "cell_type": "code",
   "execution_count": 9,
   "metadata": {},
   "outputs": [
    {
     "name": "stdout",
     "output_type": "stream",
     "text": [
      "20\n",
      "13/13 [==============================] - 0s 3ms/step - loss: 7.5407e-06 - binary_accuracy: 1.0000\n",
      "Accuracy : [7.540683782281121e-06, 1.0]\n",
      "probability od detection is  1.0\n",
      "15\n",
      "13/13 [==============================] - 0s 3ms/step - loss: 5.3318e-08 - binary_accuracy: 1.0000\n",
      "Accuracy : [5.331819963316775e-08, 1.0]\n",
      "probability od detection is  1.0\n",
      "10\n",
      "13/13 [==============================] - 0s 3ms/step - loss: 4.3716e-08 - binary_accuracy: 1.0000\n",
      "Accuracy : [4.371615958120856e-08, 1.0]\n",
      "probability od detection is  1.0\n",
      "5\n",
      "13/13 [==============================] - 0s 3ms/step - loss: 5.3262e-04 - binary_accuracy: 1.0000\n",
      "Accuracy : [0.0005326156388036907, 1.0]\n",
      "probability od detection is  1.0\n",
      "0\n",
      "13/13 [==============================] - 0s 2ms/step - loss: 0.1320 - binary_accuracy: 0.9475\n",
      "Accuracy : [0.13201738893985748, 0.9474999904632568]\n",
      "probability od detection is  0.9603960396039604\n",
      "-5\n",
      "13/13 [==============================] - 0s 3ms/step - loss: 0.4108 - binary_accuracy: 0.8350\n",
      "Accuracy : [0.4107592701911926, 0.8349999785423279]\n",
      "probability od detection is  0.7688442211055276\n",
      "-10\n",
      "13/13 [==============================] - 0s 3ms/step - loss: 0.6122 - binary_accuracy: 0.6650\n",
      "Accuracy : [0.6122380495071411, 0.6650000214576721]\n",
      "probability od detection is  0.4166666666666667\n",
      "-15\n",
      "13/13 [==============================] - 0s 2ms/step - loss: 0.6851 - binary_accuracy: 0.5550\n",
      "Accuracy : [0.68514084815979, 0.5550000071525574]\n",
      "probability od detection is  0.16826923076923078\n",
      "-20\n",
      "13/13 [==============================] - 0s 2ms/step - loss: 0.6970 - binary_accuracy: 0.5000\n",
      "Accuracy : [0.6969531178474426, 0.5]\n",
      "probability od detection is  0.10185185185185185\n"
     ]
    }
   ],
   "source": [
    "for i in range(len(snrDB)):\n",
    "  \n",
    "  featuresMatrix=createFeature(beta,snrDB[i])\n",
    "\n",
    "  df_train,df_test = train_test_split(featuresMatrix, test_size=0.2, random_state=42)\n",
    "  x_train, y_train = createTrainTest(df_train,num_sensors)\n",
    "  x_test, y_test = createTrainTest(df_test,num_sensors)\n",
    "\n",
    "  print(snrDB[i])\n",
    "  input_shape = (num_time_periods*num_sensors)\n",
    "  \n",
    "  x_train = x_train.reshape(x_train.shape[0], input_shape)\n",
    "  \n",
    "  x_train = x_train.astype(\"float32\")\n",
    "  y_train = y_train.astype(\"float32\")\n",
    "\n",
    "  x_test = x_test.reshape(x_test.shape[0], input_shape)\n",
    "\n",
    "  x_test = x_test.astype(\"float32\")\n",
    "  y_test = y_test.astype(\"float32\")\n",
    "  \n",
    "  fpr_mlp,tpr_mlp = trainingModel(model_mlp)\n",
    "  pd_mlp[i]=(findPd(fpr_mlp,tpr_mlp))\n",
    "  print(\"probability od detection is \",pd_mlp[i])"
   ]
  },
  {
   "cell_type": "code",
   "execution_count": 10,
   "metadata": {},
   "outputs": [
    {
     "data": {
      "image/png": "[encoded data removed]",
      "text/plain": [
       "<Figure size 432x288 with 1 Axes>"
      ]
     },
     "metadata": {
      "needs_background": "light"
     },
     "output_type": "display_data"
    },
    {
     "name": "stderr",
     "output_type": "stream",
     "text": [
      "The PostScript backend does not support transparency; partially transparent artists will be rendered opaque.\n",
      "The PostScript backend does not support transparency; partially transparent artists will be rendered opaque.\n"
     ]
    }
   ],
   "source": [
    "%matplotlib inline\n",
    "fig = plt.figure()\n",
    "plt.plot(snrDB,pd_mlp,label = 'MLP',linestyle='dashdot',linewidth='2',c='black')\n",
    "plt.xlim([-20,0])\n",
    "plt.xlabel('SNR (dB)',fontsize=16)\n",
    "plt.ylabel('Probability of detection (Pd)',fontsize=16)\n",
    "plt.title(\"Multi Layer Perceptron\")\n",
    "plt.legend(fontsize=12)\n",
    "plt.show()\n",
    "fig.savefig('raw.eps')"
   ]
  },
  {
   "cell_type": "markdown",
   "metadata": {},
   "source": [
    "# ResNet MODEL"
   ]
  },
  {
   "cell_type": "code",
   "execution_count": 11,
   "metadata": {},
   "outputs": [
    {
     "name": "stdout",
     "output_type": "stream",
     "text": [
      "WARNING:tensorflow:Compiled the loaded model, but the compiled metrics have yet to be built. `model.compile_metrics` will be empty until you train or evaluate the model.\n"
     ]
    },
    {
     "name": "stderr",
     "output_type": "stream",
     "text": [
      "C:\\Users\\PRIYA LAKKU\\anaconda3\\lib\\site-packages\\keras\\engine\\functional.py:1410: CustomMaskWarning: Custom mask layers require a config and must override get_config. When loading, the custom mask layer must be passed to the custom_objects argument.\n",
      "  layer_config = serialize_layer_fn(layer)\n"
     ]
    }
   ],
   "source": [
    "#@title RESNET  { form-width: \"30%\" }\n",
    "n_feature_maps = 50\n",
    "\n",
    "input_layer = keras.layers.Input(num_sensors,)\n",
    "\n",
    "# BLOCK 1\n",
    "reshape = keras.layers.Reshape((1,num_sensors), input_shape=(num_sensors,))(input_layer)\n",
    "conv_x = keras.layers.Conv1D(filters=n_feature_maps, kernel_size=1, padding='same')(reshape)\n",
    "conv_x = keras.layers.BatchNormalization()(conv_x)\n",
    "conv_x = keras.layers.Activation('relu')(conv_x)\n",
    "\n",
    "conv_y = keras.layers.Conv1D(filters=n_feature_maps, kernel_size=5, padding='same')(conv_x)\n",
    "conv_y = keras.layers.BatchNormalization()(conv_y)\n",
    "conv_y = keras.layers.Activation('relu')(conv_y)\n",
    "\n",
    "conv_z = keras.layers.Conv1D(filters=n_feature_maps, kernel_size=3, padding='same')(conv_y)\n",
    "conv_z = keras.layers.BatchNormalization()(conv_z)\n",
    "\n",
    "# expand channels for the sum\n",
    "shortcut_y = keras.layers.Conv1D(filters=n_feature_maps, kernel_size=1, padding='same')(reshape)\n",
    "shortcut_y = keras.layers.BatchNormalization()(shortcut_y)\n",
    "\n",
    "output_block_1 = keras.layers.add([shortcut_y, conv_z])\n",
    "output_block_1 = keras.layers.Activation('relu')(output_block_1)\n",
    "\n",
    "# BLOCK 2\n",
    "\n",
    "conv_x = keras.layers.Conv1D(filters=n_feature_maps * 2, kernel_size=8, padding='same')(output_block_1)\n",
    "conv_x = keras.layers.BatchNormalization()(conv_x)\n",
    "conv_x = keras.layers.Activation('relu')(conv_x)\n",
    "\n",
    "conv_y = keras.layers.Conv1D(filters=n_feature_maps * 2, kernel_size=5, padding='same')(conv_x)\n",
    "conv_y = keras.layers.BatchNormalization()(conv_y)\n",
    "conv_y = keras.layers.Activation('relu')(conv_y)\n",
    "\n",
    "conv_z = keras.layers.Conv1D(filters=n_feature_maps * 2, kernel_size=3, padding='same')(conv_y)\n",
    "conv_z = keras.layers.BatchNormalization()(conv_z)\n",
    "\n",
    "# expand channels for the sum\n",
    "shortcut_y = keras.layers.Conv1D(filters=n_feature_maps * 2, kernel_size=1, padding='same')(output_block_1)\n",
    "shortcut_y = keras.layers.BatchNormalization()(shortcut_y)\n",
    "\n",
    "output_block_2 = keras.layers.add([shortcut_y, conv_z])\n",
    "output_block_2 = keras.layers.Activation('relu')(output_block_2)\n",
    "\n",
    "# BLOCK 3\n",
    "\n",
    "conv_x = keras.layers.Conv1D(filters=n_feature_maps * 2, kernel_size=8, padding='same')(output_block_2)\n",
    "conv_x = keras.layers.BatchNormalization()(conv_x)\n",
    "conv_x = keras.layers.Activation('relu')(conv_x)\n",
    "\n",
    "conv_y = keras.layers.Conv1D(filters=n_feature_maps * 2, kernel_size=5, padding='same')(conv_x)\n",
    "conv_y = keras.layers.BatchNormalization()(conv_y)\n",
    "conv_y = keras.layers.Activation('relu')(conv_y)\n",
    "\n",
    "conv_z = keras.layers.Conv1D(filters=n_feature_maps * 2, kernel_size=3, padding='same')(conv_y)\n",
    "conv_z = keras.layers.BatchNormalization()(conv_z)\n",
    "\n",
    "# no need to expand channels because they are equal\n",
    "shortcut_y = keras.layers.BatchNormalization()(output_block_2)\n",
    "\n",
    "output_block_3 = keras.layers.add([shortcut_y, conv_z])\n",
    "output_block_3 = keras.layers.Activation('relu')(output_block_3)\n",
    "\n",
    "# FINAL\n",
    "\n",
    "gap_layer = keras.layers.GlobalAveragePooling1D()(output_block_3)\n",
    "\n",
    "output_layer = keras.layers.Dense(1, activation='sigmoid')(gap_layer)\n",
    "\n",
    "model_rnet = keras.models.Model(inputs=input_layer, outputs=output_layer)\n",
    "model_rnet.save('RNET.h5')\n",
    "# model_m.summary()\n",
    "# from tensorflow.keras.utils import plot_model\n",
    "# plot_model(model_m, to_file='model_plot.png', show_shapes=True, show_layer_names=True)"
   ]
  },
  {
   "cell_type": "code",
   "execution_count": 12,
   "metadata": {},
   "outputs": [
    {
     "name": "stdout",
     "output_type": "stream",
     "text": [
      "20\n",
      "13/13 [==============================] - 1s 7ms/step - loss: 2.3820e-04 - binary_accuracy: 1.0000\n",
      "Accuracy : [0.0002382037346251309, 1.0]\n",
      "probability of detection is 1.0\n",
      "15\n",
      "13/13 [==============================] - 1s 6ms/step - loss: 3.1887e-04 - binary_accuracy: 1.0000\n",
      "Accuracy : [0.00031886957003735006, 1.0]\n",
      "probability of detection is 1.0\n",
      "10\n",
      "13/13 [==============================] - 1s 6ms/step - loss: 8.4778e-05 - binary_accuracy: 1.0000\n",
      "Accuracy : [8.477829396724701e-05, 1.0]\n",
      "probability of detection is 1.0\n",
      "5\n",
      "13/13 [==============================] - 1s 6ms/step - loss: 0.0282 - binary_accuracy: 0.9925\n",
      "Accuracy : [0.02824491448700428, 0.9925000071525574]\n",
      "probability of detection is 1.0\n",
      "0\n",
      "13/13 [==============================] - 1s 6ms/step - loss: 0.1392 - binary_accuracy: 0.9400\n",
      "Accuracy : [0.13915280997753143, 0.9399999976158142]\n",
      "probability of detection is 0.9950980392156863\n",
      "-5\n",
      "13/13 [==============================] - 1s 6ms/step - loss: 0.4851 - binary_accuracy: 0.8025\n",
      "Accuracy : [0.4850594997406006, 0.8025000095367432]\n",
      "probability of detection is 0.6666666666666666\n",
      "-10\n",
      "13/13 [==============================] - 1s 6ms/step - loss: 0.7302 - binary_accuracy: 0.6300\n",
      "Accuracy : [0.73015958070755, 0.6299999952316284]\n",
      "probability of detection is 0.13846153846153847\n",
      "-15\n",
      "13/13 [==============================] - 1s 6ms/step - loss: 0.7776 - binary_accuracy: 0.5225\n",
      "Accuracy : [0.7776455879211426, 0.5224999785423279]\n",
      "probability of detection is 0.08542713567839195\n",
      "-20\n",
      "13/13 [==============================] - 1s 6ms/step - loss: 0.7554 - binary_accuracy: 0.5175\n",
      "Accuracy : [0.7554094791412354, 0.5174999833106995]\n",
      "probability of detection is 0.1641025641025641\n"
     ]
    }
   ],
   "source": [
    "for i in range(len(snrDB)):\n",
    "  \n",
    "  featuresMatrix=createFeature(beta,snrDB[i])\n",
    "\n",
    "  df_train,df_test = train_test_split(featuresMatrix, test_size=0.2, random_state=42)\n",
    "  x_train, y_train = createTrainTest(df_train,num_sensors)\n",
    "  x_test, y_test = createTrainTest(df_test,num_sensors)\n",
    "\n",
    "  print(snrDB[i])\n",
    "  input_shape = (num_time_periods*num_sensors)\n",
    "  \n",
    "  x_train = x_train.reshape(x_train.shape[0], input_shape)\n",
    "  \n",
    "  x_train = x_train.astype(\"float32\")\n",
    "  y_train = y_train.astype(\"float32\")\n",
    "\n",
    "  x_test = x_test.reshape(x_test.shape[0], input_shape)\n",
    "\n",
    "  x_test = x_test.astype(\"float32\")\n",
    "  y_test = y_test.astype(\"float32\")\n",
    "  \n",
    "  fpr_rnet,tpr_rnet = trainingModel(model_rnet)\n",
    "  pd_rnet[i]=(findPd(fpr_rnet,tpr_rnet))\n",
    "  print(\"probability of detection is\",pd_rnet[i])"
   ]
  },
  {
   "cell_type": "code",
   "execution_count": 17,
   "metadata": {},
   "outputs": [
    {
     "data": {
      "image/png": "[encoded data removed]",
      "text/plain": [
       "<Figure size 432x288 with 1 Axes>"
      ]
     },
     "metadata": {
      "needs_background": "light"
     },
     "output_type": "display_data"
    },
    {
     "name": "stderr",
     "output_type": "stream",
     "text": [
      "The PostScript backend does not support transparency; partially transparent artists will be rendered opaque.\n",
      "The PostScript backend does not support transparency; partially transparent artists will be rendered opaque.\n"
     ]
    }
   ],
   "source": [
    "%matplotlib inline\n",
    "fig = plt.figure()\n",
    "plt.plot(snrDB,pd_rnet,label = 'ResNet',linestyle=\"dashed\",linewidth='2',c='r')\n",
    "plt.xlim([-20,0])\n",
    "plt.xlabel('SNR (dB)',fontsize=16)\n",
    "plt.ylabel('Probability of detection (Pd)',fontsize=16)\n",
    "plt.title(\"Residual Network\")\n",
    "plt.legend(fontsize=12)\n",
    "plt.show()\n",
    "fig.savefig('raw.eps')"
   ]
  },
  {
   "cell_type": "markdown",
   "metadata": {},
   "source": [
    "# LSTM MODEL"
   ]
  },
  {
   "cell_type": "code",
   "execution_count": 14,
   "metadata": {},
   "outputs": [
    {
     "name": "stdout",
     "output_type": "stream",
     "text": [
      "WARNING:tensorflow:Compiled the loaded model, but the compiled metrics have yet to be built. `model.compile_metrics` will be empty until you train or evaluate the model.\n"
     ]
    }
   ],
   "source": [
    "#@title LSTM  { form-width: \"30%\" }\n",
    "\n",
    "from keras.regularizers import l2\n",
    "# Import Keras\n",
    "from keras.models import Sequential\n",
    "from keras.layers import Dense, LSTM, BatchNormalization\n",
    "from tensorflow.keras.optimizers import Adam\n",
    "from keras.callbacks import ReduceLROnPlateau, EarlyStopping\n",
    "from keras.regularizers import l2\n",
    "from time import time\n",
    "\n",
    "\n",
    "N = num_sensors                 # number of features\n",
    "EPOCH = 50                           # number of epochs\n",
    "LR = 5e-2                            # learning rate of the gradient descent\n",
    "LAMBD = 3e-2                         # lambda in L2 regularizaion\n",
    "DP = 0.0                             # dropout rate\n",
    "RDP = 0.0                            # recurrent dropout rate\n",
    "\n",
    "model_lstm = Sequential()\n",
    "model_lstm.add(Reshape((1,num_sensors), input_shape=(num_sensors,)))\n",
    "model_lstm.add(LSTM(input_shape=(1,num_sensors), units=8,\n",
    "               activation='tanh', recurrent_activation='hard_sigmoid',\n",
    "               kernel_regularizer=l2(LAMBD), recurrent_regularizer=l2(LAMBD),\n",
    "               dropout=DP, recurrent_dropout=RDP,\n",
    "               return_sequences=True, return_state=False,\n",
    "               stateful=False, unroll=False\n",
    "              ))\n",
    "model_lstm.add(BatchNormalization())\n",
    "model_lstm.add(LSTM(units=8,\n",
    "               activation='tanh', recurrent_activation='hard_sigmoid',\n",
    "               kernel_regularizer=l2(LAMBD), recurrent_regularizer=l2(LAMBD),\n",
    "               dropout=DP, recurrent_dropout=RDP,\n",
    "               return_sequences=True, return_state=False,\n",
    "               stateful=False, unroll=False\n",
    "              ))\n",
    "model_lstm.add(BatchNormalization())\n",
    "model_lstm.add(LSTM(units=8,\n",
    "               activation='tanh', recurrent_activation='hard_sigmoid',\n",
    "               kernel_regularizer=l2(LAMBD), recurrent_regularizer=l2(LAMBD),\n",
    "               dropout=DP, recurrent_dropout=RDP,\n",
    "               return_sequences=False, return_state=False,\n",
    "               stateful=False, unroll=False\n",
    "              ))\n",
    "model_lstm.add(BatchNormalization())\n",
    "model_lstm.add(Dense(units=1, activation='sigmoid'))\n",
    "model_lstm.save('LSTM.h5')\n",
    "# model_m.summary()\n",
    "from tensorflow.keras.utils import plot_model\n",
    "# plot_model(model_m, to_file='model_plot.png', show_shapes=True, show_layer_names=True)"
   ]
  },
  {
   "cell_type": "code",
   "execution_count": 15,
   "metadata": {},
   "outputs": [
    {
     "name": "stdout",
     "output_type": "stream",
     "text": [
      "20\n",
      "13/13 [==============================] - 1s 4ms/step - loss: 0.0093 - binary_accuracy: 1.0000\n",
      "Accuracy : [0.009344970807433128, 1.0]\n",
      "probability of detection is 1.0\n",
      "15\n",
      "13/13 [==============================] - 1s 4ms/step - loss: 0.0040 - binary_accuracy: 1.0000\n",
      "Accuracy : [0.004018851090222597, 1.0]\n",
      "probability of detection is 1.0\n",
      "10\n",
      "13/13 [==============================] - 1s 4ms/step - loss: 0.0032 - binary_accuracy: 1.0000\n",
      "Accuracy : [0.003218242898583412, 1.0]\n",
      "probability of detection is 1.0\n",
      "5\n",
      "13/13 [==============================] - 1s 4ms/step - loss: 0.0572 - binary_accuracy: 0.9850\n",
      "Accuracy : [0.05723091587424278, 0.9850000143051147]\n",
      "probability of detection is 1.0\n",
      "0\n",
      "13/13 [==============================] - 1s 4ms/step - loss: 0.2051 - binary_accuracy: 0.9050\n",
      "Accuracy : [0.20506449043750763, 0.9049999713897705]\n",
      "probability of detection is 0.9842105263157894\n",
      "-5\n",
      "13/13 [==============================] - 1s 4ms/step - loss: 0.4829 - binary_accuracy: 0.7750\n",
      "Accuracy : [0.4828985929489136, 0.7749999761581421]\n",
      "probability of detection is 0.8101851851851852\n",
      "-10\n",
      "13/13 [==============================] - 1s 4ms/step - loss: 0.6236 - binary_accuracy: 0.6425\n",
      "Accuracy : [0.6236093640327454, 0.6424999833106995]\n",
      "probability of detection is 0.34418604651162793\n",
      "-15\n",
      "13/13 [==============================] - 1s 3ms/step - loss: 0.8243 - binary_accuracy: 0.4975\n",
      "Accuracy : [0.8243013024330139, 0.4975000023841858]\n",
      "probability of detection is 0.17412935323383086\n",
      "-20\n",
      "13/13 [==============================] - 1s 5ms/step - loss: 0.7120 - binary_accuracy: 0.4925\n",
      "Accuracy : [0.7120274305343628, 0.4925000071525574]\n",
      "probability of detection is 0.08629441624365482\n"
     ]
    }
   ],
   "source": [
    "for i in range(len(snrDB)):\n",
    "  \n",
    "  featuresMatrix=createFeature(beta,snrDB[i])\n",
    "\n",
    "  df_train,df_test = train_test_split(featuresMatrix, test_size=0.2, random_state=42)\n",
    "  x_train, y_train = createTrainTest(df_train,num_sensors)\n",
    "  x_test, y_test = createTrainTest(df_test,num_sensors)\n",
    "\n",
    "  print(snrDB[i])\n",
    "  input_shape = (num_time_periods*num_sensors)\n",
    "  \n",
    "  x_train = x_train.reshape(x_train.shape[0], input_shape)\n",
    "  \n",
    "  x_train = x_train.astype(\"float32\")\n",
    "  y_train = y_train.astype(\"float32\")\n",
    "\n",
    "  x_test = x_test.reshape(x_test.shape[0], input_shape)\n",
    "\n",
    "  x_test = x_test.astype(\"float32\")\n",
    "  y_test = y_test.astype(\"float32\")\n",
    "  \n",
    "  fpr_lstm,tpr_lstm = trainingModel(model_lstm)\n",
    "  pd_lstm[i]=(findPd(fpr_lstm,tpr_lstm))\n",
    "  print(\"probability of detection is\",pd_lstm[i])"
   ]
  },
  {
   "cell_type": "code",
   "execution_count": 16,
   "metadata": {},
   "outputs": [
    {
     "data": {
      "image/png": "[encoded data removed]",
      "text/plain": [
       "<Figure size 432x288 with 1 Axes>"
      ]
     },
     "metadata": {
      "needs_background": "light"
     },
     "output_type": "display_data"
    },
    {
     "name": "stderr",
     "output_type": "stream",
     "text": [
      "The PostScript backend does not support transparency; partially transparent artists will be rendered opaque.\n",
      "The PostScript backend does not support transparency; partially transparent artists will be rendered opaque.\n"
     ]
    }
   ],
   "source": [
    "%matplotlib inline\n",
    "fig = plt.figure()\n",
    "plt.plot(snrDB,pd_lstm,label = 'LSTM')\n",
    "plt.xlim([-20,0])\n",
    "plt.xlabel('SNR (dB)',fontsize=16)\n",
    "plt.ylabel('Probability of detection (Pd)',fontsize=16)\n",
    "plt.title(\"Long Short Term Memory\")\n",
    "plt.legend(fontsize=12)\n",
    "plt.show()\n",
    "fig.savefig('raw.eps')"
   ]
  },
  {
   "cell_type": "code",
   "execution_count": 94,
   "metadata": {
    "id": "d5DME7VJX8dP"
   },
   "outputs": [
    {
     "data": {
      "image/png": "[encoded data removed]",
      "text/plain": [
       "<Figure size 432x288 with 1 Axes>"
      ]
     },
     "metadata": {
      "needs_background": "light"
     },
     "output_type": "display_data"
    },
    {
     "name": "stderr",
     "output_type": "stream",
     "text": [
      "The PostScript backend does not support transparency; partially transparent artists will be rendered opaque.\n",
      "The PostScript backend does not support transparency; partially transparent artists will be rendered opaque.\n"
     ]
    }
   ],
   "source": [
    "%matplotlib inline\n",
    "fig = plt.figure()\n",
    "plt.plot(snrDB,pd_rnet,label = 'ResNet')\n",
    "plt.plot(snrDB,pd_lstm,label = 'LSTM')\n",
    "plt.plot(snrDB, pd_cnn, label = 'CNN') \n",
    "plt.plot(snrDB,pd_mlp,label = 'MLP')\n",
    "plt.xlim([-20,0])\n",
    "plt.xlabel('SNR (dB)',fontsize=16)\n",
    "plt.ylabel('Probability of detection (Pd)',fontsize=16)\n",
    "plt.legend(fontsize=12)\n",
    "plt.show()\n",
    "fig.savefig('raw.eps')"
   ]
  },
  {
   "cell_type": "code",
   "execution_count": null,
   "metadata": {},
   "outputs": [],
   "source": []
  }
 ],
 "metadata": {
  "accelerator": "GPU",
  "colab": {
   "collapsed_sections": [],
   "name": "DNN-GGN.ipynb",
   "provenance": []
  },
  "kernelspec": {
   "display_name": "Python 3",
   "language": "python",
   "name": "python3"
  },
  "language_info": {
   "codemirror_mode": {
    "name": "ipython",
    "version": 3
   },
   "file_extension": ".py",
   "mimetype": "text/x-python",
   "name": "python",
   "nbconvert_exporter": "python",
   "pygments_lexer": "ipython3",
   "version": "3.8.3"
  }
 },
 "nbformat": 4,
 "nbformat_minor": 1
}
